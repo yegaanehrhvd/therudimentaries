{
  "nbformat": 4,
  "nbformat_minor": 0,
  "metadata": {
    "colab": {
      "provenance": [],
      "authorship_tag": "ABX9TyO47+IfhkjUSaBAP3FX6QEk",
      "include_colab_link": true
    },
    "kernelspec": {
      "name": "python3",
      "display_name": "Python 3"
    },
    "language_info": {
      "name": "python"
    }
  },
  "cells": [
    {
      "cell_type": "markdown",
      "metadata": {
        "id": "view-in-github",
        "colab_type": "text"
      },
      "source": [
        "<a href=\"https://colab.research.google.com/github/yegaanehrhvd/therudimentaries/blob/master/FunctionsHomework.ipynb\" target=\"_parent\"><img src=\"https://colab.research.google.com/assets/colab-badge.svg\" alt=\"Open In Colab\"/></a>"
      ]
    },
    {
      "cell_type": "code",
      "execution_count": null,
      "metadata": {
        "colab": {
          "base_uri": "https://localhost:8080/"
        },
        "id": "-7wFLRnfsRTp",
        "outputId": "a47a261a-9853-410b-cfdc-1300519e4d69"
      },
      "outputs": [
        {
          "output_type": "stream",
          "name": "stdout",
          "text": [
            "Enter a number: 5\n",
            "5 is a prime number\n"
          ]
        }
      ],
      "source": [
        "#Question1\n",
        "from math import ceil\n",
        "\n",
        "def is_prime(n):\n",
        "  is_prime = True\n",
        "  if n < 0:\n",
        "    raise ValueError(\"Negative numbers cannot be prime.\")\n",
        "  if n <= 1:\n",
        "    print(f\"{n} is not a prime number\")\n",
        "  for i in range(2, ceil(n**0.5) + 1):\n",
        "    if n % i == 0:\n",
        "      is_prime = False\n",
        "      break\n",
        "\n",
        "  if is_prime:\n",
        "    print(f\"{n} is a prime number\")\n",
        "  else:\n",
        "    print(f\"{n} is not a prime number\")\n",
        "\n",
        "is_prime(int(input(\"Enter a number: \")))"
      ]
    },
    {
      "cell_type": "code",
      "source": [
        "#Question2\n",
        "def abc_finder(text):\n",
        "    positions = {'a': [], 'b': [], 'c': []}\n",
        "    for idx, char in enumerate(text):\n",
        "        if char in positions:\n",
        "            positions[char].append(idx)\n",
        "    for key in positions:\n",
        "        if not positions[key]:\n",
        "            positions[key] = None\n",
        "    return positions\n",
        "abc_finder(input(\"Enter a text: \"))"
      ],
      "metadata": {
        "colab": {
          "base_uri": "https://localhost:8080/"
        },
        "id": "12uNLmfEkY0v",
        "outputId": "0120448e-f0ea-433f-de49-cdfb3f7a01cd"
      },
      "execution_count": 1,
      "outputs": [
        {
          "name": "stdout",
          "output_type": "stream",
          "text": [
            "Enter a text: apple orange\n"
          ]
        },
        {
          "output_type": "execute_result",
          "data": {
            "text/plain": [
              "{'a': [0, 8], 'b': None, 'c': None}"
            ]
          },
          "metadata": {},
          "execution_count": 1
        }
      ]
    },
    {
      "cell_type": "code",
      "source": [
        "#Question3\n",
        "def possible_triangle(a,b,c):\n",
        "  try:\n",
        "    a = float(a)\n",
        "    b = float(b)\n",
        "    c = float(c)\n",
        "    tri_possible = True\n",
        "    if not a + b > c:\n",
        "      tri_possible = False\n",
        "    elif not b + c > a:\n",
        "      tri_possible = False\n",
        "    elif not a + c > b:\n",
        "      tri_possible = False\n",
        "  except ValueError:\n",
        "    print(\"only numbers are allowed!\")\n",
        "  if tri_possible:\n",
        "    print(\"These could be the lengths of the sides of a triangle!\")\n",
        "  if not tri_possible:\n",
        "    print(\"These couldn't be the lengths of the sides of a triangle!\")\n",
        "a = input(\"Enter the first number: \")\n",
        "b = input(\"Enter the second number: \")\n",
        "c = input(\"Enter the third number: \")\n",
        "possible_triangle(a,b,c)"
      ],
      "metadata": {
        "colab": {
          "base_uri": "https://localhost:8080/"
        },
        "id": "JIFoZoj2QKvU",
        "outputId": "8d373161-5056-4e28-9c83-1e7161d4692d"
      },
      "execution_count": 3,
      "outputs": [
        {
          "output_type": "stream",
          "name": "stdout",
          "text": [
            "Enter the first number: 8\n",
            "Enter the second number: 6\n",
            "Enter the third number: 3\n",
            "These could be the lengths of the sides of a triangle!\n"
          ]
        }
      ]
    },
    {
      "cell_type": "code",
      "source": [
        "#Question4\n",
        "def seconds_converter(n):\n",
        "  n = float(n)\n",
        "  mins = n / 60\n",
        "  hours = n / 360\n",
        "  seconds = n - mins - hours\n",
        "  print(f\"{n} seconds equals {hours} hours, {mins} minutes and {seconds} seconds\")\n",
        "n = input(\"Enter the time in terms of seonds: \")\n",
        "seconds_converter(n)"
      ],
      "metadata": {
        "colab": {
          "base_uri": "https://localhost:8080/"
        },
        "id": "pZ546571RA4P",
        "outputId": "98976d85-84d1-4cea-8dca-32965b15a3b2"
      },
      "execution_count": 5,
      "outputs": [
        {
          "output_type": "stream",
          "name": "stdout",
          "text": [
            "Enter the time in terms of seonds: 4896\n",
            "4896.0 seconds equals 13.6 hours, 81.6 minutes and 4800.799999999999 seconds\n"
          ]
        }
      ]
    },
    {
      "cell_type": "code",
      "source": [
        "#Question5\n",
        "def calculator(a,b):\n",
        "  possibleactions = ['add', 'divide', 'subtract', 'multiply']\n",
        "  x = input(\"What do you want to do? (add,divide,subtract,multiply)\")\n",
        "  if x.lower() not in possibleactions:\n",
        "    raise ValueError(\"Only addition, division, subtraction and multiplication!\")\n",
        "  a = float(a)\n",
        "  b = float(b)\n",
        "  if x.lower() == 'add':\n",
        "    return a + b\n",
        "  elif x.lower() == 'subtract':\n",
        "    y = input(\"a - b or b - a?\")\n",
        "    if y.lower() == 'a - b' or 'a-b':\n",
        "      return a - b\n",
        "    elif y.lower() == 'b - a' or 'b-a':\n",
        "      return b - a\n",
        "  elif x.lower() == 'divide':\n",
        "    j = input(\"a divided by b or b divided by a?\")\n",
        "    if j.lower() == 'a divided by b':\n",
        "      if b == 0:\n",
        "        raise ZeroDivisionError(\"You cannot divide by zero!\")\n",
        "      else:\n",
        "        return a / b\n",
        "    elif j.lower() == 'b divided by a':\n",
        "      if a == 0:\n",
        "        raise ZeroDivisionError(\"You cannot divide by zero!\")\n",
        "      else:\n",
        "        return b / a\n",
        "  elif x.lower() == 'multiply':\n",
        "    return a * b\n",
        "\n",
        "\n",
        "calculator(40, 0)"
      ],
      "metadata": {
        "colab": {
          "base_uri": "https://localhost:8080/"
        },
        "id": "-P__Q3iQVnCE",
        "outputId": "72958f40-471a-49c7-9700-26b3a0ffae79"
      },
      "execution_count": 21,
      "outputs": [
        {
          "name": "stdout",
          "output_type": "stream",
          "text": [
            "What do you want to do? (add,divide,subtract,multiply)add\n"
          ]
        },
        {
          "output_type": "execute_result",
          "data": {
            "text/plain": [
              "40.0"
            ]
          },
          "metadata": {},
          "execution_count": 21
        }
      ]
    },
    {
      "cell_type": "code",
      "source": [
        "#Question6\n",
        "def oddeven(n):\n",
        "  n = float(n)\n",
        "  if not n.is_integer() or n <=0:\n",
        "    raise ValueError(\"Only natural numbers are allowed!\")\n",
        "  n = int(n)\n",
        "  if n % 2 == 0:\n",
        "    print(f\"{n} is an even number!\")\n",
        "    return True\n",
        "  else:\n",
        "    print(f\"{n} is an odd number!\")\n",
        "    return False\n",
        "def cal(n):\n",
        "  if oddeven(n) == True:\n",
        "    return n * 2\n",
        "  else:\n",
        "    return n **3\n",
        "\n",
        "cal(7)\n"
      ],
      "metadata": {
        "colab": {
          "base_uri": "https://localhost:8080/"
        },
        "id": "rxOeA82gap0U",
        "outputId": "54004e06-7b99-4e9a-c645-9624df76d118"
      },
      "execution_count": 22,
      "outputs": [
        {
          "output_type": "stream",
          "name": "stdout",
          "text": [
            "7 is an odd number!\n"
          ]
        },
        {
          "output_type": "execute_result",
          "data": {
            "text/plain": [
              "343"
            ]
          },
          "metadata": {},
          "execution_count": 22
        }
      ]
    },
    {
      "cell_type": "code",
      "source": [
        "#Questin7\n",
        "def phrase(n):\n",
        "  count = 0\n",
        "  x = len(n)\n",
        "  b = list(n)\n",
        "  for i in n:\n",
        "    if n.isalpha():\n",
        "      count += 1\n",
        "  if count % 2==0:\n",
        "    for j in range(len(n)//2):\n",
        "      print(n[j], end= '')\n",
        "  else:\n",
        "    print(\"\".join(b[len(b)//2 + 1:]))\n",
        "\n",
        "phrase(input(\"Write a phrase:\"))\n",
        "\n"
      ],
      "metadata": {
        "colab": {
          "base_uri": "https://localhost:8080/"
        },
        "id": "-3Hy6Z52km6Y",
        "outputId": "4f6449fb-2da2-4e71-e753-0ce4d5007d10"
      },
      "execution_count": 26,
      "outputs": [
        {
          "output_type": "stream",
          "name": "stdout",
          "text": [
            "Write a phrase:54pple\n",
            "54p"
          ]
        }
      ]
    }
  ]
}