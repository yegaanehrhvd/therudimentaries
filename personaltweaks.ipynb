{
  "nbformat": 4,
  "nbformat_minor": 0,
  "metadata": {
    "colab": {
      "provenance": [],
      "authorship_tag": "ABX9TyMYSleTeyFxiSWg/o5ZZTbd",
      "include_colab_link": true
    },
    "kernelspec": {
      "name": "python3",
      "display_name": "Python 3"
    },
    "language_info": {
      "name": "python"
    }
  },
  "cells": [
    {
      "cell_type": "markdown",
      "metadata": {
        "id": "view-in-github",
        "colab_type": "text"
      },
      "source": [
        "<a href=\"https://colab.research.google.com/github/yegaanehrhvd/therudimentaries/blob/master/personaltweaks.ipynb\" target=\"_parent\"><img src=\"https://colab.research.google.com/assets/colab-badge.svg\" alt=\"Open In Colab\"/></a>"
      ]
    },
    {
      "cell_type": "code",
      "source": [
        "#BinaryConverter\n",
        "x = input(\"Type whatever you want:\")\n",
        "for i in x:\n",
        "  r = []\n",
        "  if i.isdigit():\n",
        "    n = int(i)\n",
        "  else:\n",
        "    n = ord(i)\n",
        "  if n == 0:\n",
        "    r.append(0)\n",
        "  while n > 0:\n",
        "    n, remainder = divmod(n, 2)\n",
        "    r.append(remainder)\n",
        "  z = r[::-1]\n",
        "  b = ''.join(str(nums) for nums in z)\n",
        "  print(f\"{i} equals {b}\")"
      ],
      "metadata": {
        "colab": {
          "base_uri": "https://localhost:8080/"
        },
        "id": "_ROUf5ZHUWvG",
        "outputId": "9b965a94-78c9-4a0d-d6a1-bad707c04639"
      },
      "execution_count": null,
      "outputs": [
        {
          "output_type": "stream",
          "name": "stdout",
          "text": [
            "Type whatever you want:re45\n",
            "r equals 1110010\n",
            "e equals 1100101\n",
            "4 equals 100\n",
            "5 equals 101\n"
          ]
        }
      ]
    },
    {
      "cell_type": "code",
      "source": [
        "def collect_three_tuples():\n",
        "    result = []\n",
        "\n",
        "    for i in range(3):\n",
        "        t = ()\n",
        "        size = int(input(f\"How many numbers in tuple {i+1}? \"))\n",
        "        for _ in range(size):\n",
        "            x = int(input(\"Type a number: \"))\n",
        "            t += (x,)\n",
        "        result.append(t)\n",
        "\n",
        "    return result\n",
        "t1, t2, t3 = collect_three_tuples()\n",
        "print(\"Tuple 1:\", t1)\n",
        "print(\"Tuple 2:\", t2)\n",
        "print(\"Tuple 3:\", t3)"
      ],
      "metadata": {
        "colab": {
          "base_uri": "https://localhost:8080/"
        },
        "id": "kMpDlwmXP1aI",
        "outputId": "9e5e615d-f6b3-4ae8-bfef-545c2b812da8"
      },
      "execution_count": null,
      "outputs": [
        {
          "output_type": "stream",
          "name": "stdout",
          "text": [
            "How many numbers in tuple 1? 3\n",
            "Type a number: 1\n",
            "Type a number: 2\n",
            "Type a number: 3\n",
            "How many numbers in tuple 2? 3\n",
            "Type a number: 1\n",
            "Type a number: 2\n",
            "Type a number: 3\n",
            "How many numbers in tuple 3? 3\n",
            "Type a number: 1\n",
            "Type a number: 2\n",
            "Type a number: 3\n",
            "Tuple 1: (1, 2, 3)\n",
            "Tuple 2: (1, 2, 3)\n",
            "Tuple 3: (1, 2, 3)\n"
          ]
        }
      ]
    },
    {
      "cell_type": "code",
      "source": [
        "def multiple(x,y):\n",
        "  x = 2\n",
        "  y = [3,4]\n",
        "  return x,y\n",
        "\n",
        "x = 1\n",
        "y = [1,2]\n",
        "multiple(x,y)"
      ],
      "metadata": {
        "colab": {
          "base_uri": "https://localhost:8080/"
        },
        "id": "lar3IuHN1Mlp",
        "outputId": "7d94f5ec-88b5-4d74-a40d-72f3daa8b004"
      },
      "execution_count": null,
      "outputs": [
        {
          "output_type": "execute_result",
          "data": {
            "text/plain": [
              "(2, [3, 4])"
            ]
          },
          "metadata": {},
          "execution_count": 3
        }
      ]
    },
    {
      "cell_type": "code",
      "source": [
        "from datetime import datetime, timedelta\n",
        "print(datetime.now())"
      ],
      "metadata": {
        "colab": {
          "base_uri": "https://localhost:8080/"
        },
        "id": "YOX59ZrHgjTm",
        "outputId": "6fc85157-455b-4e1a-8bb0-17dd9380510b"
      },
      "execution_count": null,
      "outputs": [
        {
          "output_type": "stream",
          "name": "stdout",
          "text": [
            "2025-05-21 11:02:58.689133\n"
          ]
        }
      ]
    },
    {
      "cell_type": "code",
      "source": [
        "def fib(x):\n",
        "  if x == 1:\n",
        "    return 0\n",
        "  if x in (2,3):\n",
        "    return 1\n",
        "  if x == 4:\n",
        "    return 2\n",
        "  if x > 4:\n",
        "    return fib(x-1) + fib(x-2)\n",
        "fib (8)"
      ],
      "metadata": {
        "colab": {
          "base_uri": "https://localhost:8080/"
        },
        "id": "Z16JwEitmCho",
        "outputId": "d572325f-8334-478a-b4d1-150eb481690f"
      },
      "execution_count": null,
      "outputs": [
        {
          "output_type": "execute_result",
          "data": {
            "text/plain": [
              "13"
            ]
          },
          "metadata": {},
          "execution_count": 1
        }
      ]
    },
    {
      "cell_type": "code",
      "source": [
        "from datetime import datetime, timedelta\n",
        "\n",
        "today = datetime.now()\n",
        "next_week = today + timedelta(days=7)\n",
        "\n",
        "print(\"Today:\", today)\n",
        "print(\"Next week:\", next_week)"
      ],
      "metadata": {
        "colab": {
          "base_uri": "https://localhost:8080/"
        },
        "id": "f5UQp31ecVyk",
        "outputId": "f64cc2f6-1a46-46e2-f2e3-44f9499652c9"
      },
      "execution_count": null,
      "outputs": [
        {
          "output_type": "stream",
          "name": "stdout",
          "text": [
            "Today: 2025-05-21 10:44:00.462093\n",
            "Next week: 2025-05-28 10:44:00.462093\n"
          ]
        }
      ]
    },
    {
      "cell_type": "code",
      "source": [
        "phrase = input(\"Type out random words or numbers: \")\n",
        "x = list(phrase)\n",
        "\n",
        "for i in x:\n",
        "    if i.isdigit():\n",
        "        original = i  # save the original character\n",
        "        i = int(i)\n",
        "        b = []\n",
        "        if i == 0:\n",
        "            b.append(0)\n",
        "        else:\n",
        "            while i > 0:\n",
        "                b.append(i % 2)\n",
        "                i //= 2\n",
        "        c = b[::-1]\n",
        "        print(f\"{original} is {c}\")\n",
        "\n",
        "for j in x:\n",
        "    if not j.isdigit():\n",
        "        original = j\n",
        "        j = ord(j)\n",
        "        d = []\n",
        "        while j > 0:\n",
        "            d.append(j % 2)\n",
        "            j //= 2\n",
        "        e = d[::-1]\n",
        "        print(f\"{original} is {e}\")\n",
        "\n"
      ],
      "metadata": {
        "id": "E5PcSH1wIYpx",
        "colab": {
          "base_uri": "https://localhost:8080/"
        },
        "outputId": "e7a973f2-5004-4a43-a45c-6cf4f8064f35"
      },
      "execution_count": null,
      "outputs": [
        {
          "output_type": "stream",
          "name": "stdout",
          "text": [
            "Type out random words or numbers: man400\n",
            "4 is [1, 0, 0]\n",
            "0 is [0]\n",
            "0 is [0]\n",
            "m is [1, 1, 0, 1, 1, 0, 1]\n",
            "a is [1, 1, 0, 0, 0, 0, 1]\n",
            "n is [1, 1, 0, 1, 1, 1, 0]\n"
          ]
        }
      ]
    },
    {
      "cell_type": "code",
      "source": [
        "#PrimeGenerator\n",
        "from math import sqrt, ceil\n",
        "def PrimeProvider(n):\n",
        "  primes = []\n",
        "  for i in range(2, n+1):\n",
        "    is_prime = True\n",
        "    root = ceil(sqrt(i))\n",
        "    for prime in primes:\n",
        "      if prime > root:\n",
        "        break\n",
        "      else:\n",
        "        if i % prime == 0:\n",
        "          is_prime = False\n",
        "          break\n",
        "    if is_prime:\n",
        "      primes.append(i)\n",
        "  print(primes)\n",
        "\n",
        "PrimeProvider(84)\n",
        "\n"
      ],
      "metadata": {
        "colab": {
          "base_uri": "https://localhost:8080/"
        },
        "id": "FJqqkn2PpSCC",
        "outputId": "e9836374-83fc-4804-f0c1-554cb416f42a"
      },
      "execution_count": null,
      "outputs": [
        {
          "output_type": "stream",
          "name": "stdout",
          "text": [
            "[2, 3, 5, 7, 11, 13, 17, 19, 23, 29, 31, 37, 41, 43, 47, 53, 59, 61, 67, 71, 73, 79, 83]\n"
          ]
        }
      ]
    },
    {
      "cell_type": "code",
      "source": [
        "from functools import reduce\n",
        "from operator import mul\n",
        "def factorial(n):\n",
        "  return reduce(mul, range(1, n+1), 1)\n",
        "factorial(4)"
      ],
      "metadata": {
        "colab": {
          "base_uri": "https://localhost:8080/"
        },
        "id": "NGT4hAiDxL-V",
        "outputId": "cb80204c-a10e-49d3-87ed-4d779f6fbb3f"
      },
      "execution_count": null,
      "outputs": [
        {
          "output_type": "execute_result",
          "data": {
            "text/plain": [
              "24"
            ]
          },
          "metadata": {},
          "execution_count": 4
        }
      ]
    },
    {
      "cell_type": "code",
      "source": [
        "def factorial(n):\n",
        "  if n == 0:\n",
        "    return 1\n",
        "  if n == 1:\n",
        "    return 1\n",
        "  if n > 1:\n",
        "    return (factorial(n-1) * n)\n",
        "factorial(4)"
      ],
      "metadata": {
        "colab": {
          "base_uri": "https://localhost:8080/"
        },
        "id": "sBwZzCR-zaCP",
        "outputId": "bcee7a8a-78ce-408d-841f-fc215c6cf310"
      },
      "execution_count": null,
      "outputs": [
        {
          "output_type": "execute_result",
          "data": {
            "text/plain": [
              "24"
            ]
          },
          "metadata": {},
          "execution_count": 5
        }
      ]
    },
    {
      "cell_type": "code",
      "source": [
        "def factorial(n):\n",
        "  if n == 0:\n",
        "    return 1\n",
        "  if n == 1:\n",
        "    return 1\n",
        "  if n > 1:\n",
        "    return (factorial(n-1) * n)\n",
        "\n",
        "def combination(n,k):\n",
        "  b = factorial(k)\n",
        "  c = factorial(n)\n",
        "  d = factorial(k-n)\n",
        "  e = c * d\n",
        "  return (b/e)\n",
        "\n",
        "\n",
        "combination(3,9)\n"
      ],
      "metadata": {
        "colab": {
          "base_uri": "https://localhost:8080/"
        },
        "id": "Wal8WKEE0Uet",
        "outputId": "6507bf7e-8693-4a80-8d25-2353198a6dc7"
      },
      "execution_count": null,
      "outputs": [
        {
          "output_type": "execute_result",
          "data": {
            "text/plain": [
              "84.0"
            ]
          },
          "metadata": {},
          "execution_count": 11
        }
      ]
    },
    {
      "cell_type": "code",
      "source": [
        "def fib(n):\n",
        "  if n <= 0:\n",
        "    raise Exception(\"Negative numbers not allowed\")\n",
        "  elif n in range(1,3):\n",
        "    return 1\n",
        "  elif n>2:\n",
        "    return (fib(n-1) + fib(n-2))\n",
        "fib(8)"
      ],
      "metadata": {
        "colab": {
          "base_uri": "https://localhost:8080/"
        },
        "id": "wjspUxT1MB2n",
        "outputId": "bd7c8ccd-a6c0-434e-83cf-cf39297bc736"
      },
      "execution_count": null,
      "outputs": [
        {
          "output_type": "execute_result",
          "data": {
            "text/plain": [
              "21"
            ]
          },
          "metadata": {},
          "execution_count": 9
        }
      ]
    },
    {
      "cell_type": "code",
      "source": [
        "def GCD_founder(a,b):\n",
        "  c = []\n",
        "  if a>b:\n",
        "    for i in range(1,b+1):\n",
        "      if a%i ==0 and b%i==0:\n",
        "        c.append(i)\n",
        "  elif b>a:\n",
        "    for i in range(1,a+1):\n",
        "      if a%i ==0 and b%i==0:\n",
        "        c.append(i)\n",
        "  else:\n",
        "    return a\n",
        "  max = -float(\"inf\")\n",
        "  for j in c:\n",
        "    if j > max:\n",
        "      max=j\n",
        "  return max\n",
        "\n",
        "GCD_founder(36,24)"
      ],
      "metadata": {
        "colab": {
          "base_uri": "https://localhost:8080/"
        },
        "id": "nfYFxxPyN3M5",
        "outputId": "c17928d5-4bf6-4842-9055-d8a113e98c2c"
      },
      "execution_count": null,
      "outputs": [
        {
          "output_type": "execute_result",
          "data": {
            "text/plain": [
              "12"
            ]
          },
          "metadata": {},
          "execution_count": 20
        }
      ]
    },
    {
      "cell_type": "code",
      "source": [
        "students_grades = {\n",
        "    'Alice': {'Math': 88, 'Science': 92, 'English': 85},\n",
        "    'Bob': {'Math': 75, 'Science': 78, 'English': 80},\n",
        "    'Charlie': {'Math': 90, 'Science': 85, 'English': 87},\n",
        "    'David': {'Math': 60, 'Science': 65},\n",
        "    'Eva': {'Math': 95, 'Science': 98, 'English': 100}\n",
        "}\n",
        "\n",
        "subject_weights = {\n",
        "    'Math': 0.3,\n",
        "    'Science': 0.4,\n",
        "    'English': 0.3\n",
        "}\n",
        "\n",
        "#operationNo1\n",
        "n = int(input(\"What percentage increase do you have in mind?\"))\n",
        "for student, subjects in students_grades.items():\n",
        "  for subject in subjects:\n",
        "    old_grade = students_grades[student][subject]\n",
        "    new_grade = old_grade + (old_grade*n) / 100\n",
        "    if new_grade > 100:\n",
        "      students_grades[student][subject] = old_grade\n",
        "    else:\n",
        "      students_grades[student][subject] = new_grade\n",
        "for student, grades in students_grades.items():\n",
        "  print(f\"{student} : {grades}\")\n",
        "\n",
        "#OperationNo2\n",
        "new_d = {}\n",
        "new_d.update(students_grades)\n",
        "for student, subjects in new_d.items():\n",
        "  if 'Math' in subjects:\n",
        "    subjects['Math'] = subjects['Math'] * 0.3\n",
        "  if 'Science' in subjects:\n",
        "    subjects['Science'] = subjects['Science'] * 0.4\n",
        "  if 'English' in subjects:\n",
        "    subjects['English'] = subjects['English'] * 0.3\n",
        "for student, subjects in new_d.items():\n",
        "  for subject in subjects:\n",
        "    average = sum(subjects.values()) / len(subjects)\n",
        "  print(f\"{student} : {average}\")\n",
        "\n"
      ],
      "metadata": {
        "colab": {
          "base_uri": "https://localhost:8080/"
        },
        "id": "v4XIRH_TFv3R",
        "outputId": "c15de1df-9ef1-409e-9979-8e4e4d7545c2"
      },
      "execution_count": null,
      "outputs": [
        {
          "output_type": "stream",
          "name": "stdout",
          "text": [
            "What percentage increase do you have in mind?5\n",
            "Alice : {'Math': 92.4, 'Science': 96.6, 'English': 89.25}\n",
            "Bob : {'Math': 78.75, 'Science': 81.9, 'English': 84.0}\n",
            "Charlie : {'Math': 94.5, 'Science': 89.25, 'English': 91.35}\n",
            "David : {'Math': 63.0, 'Science': 68.25}\n",
            "Eva : {'Math': 99.75, 'Science': 98, 'English': 100}\n",
            "Alice : 31.044999999999998\n",
            "Bob : 27.195000000000004\n",
            "Charlie : 30.485\n",
            "David : 23.1\n",
            "Eva : 33.041666666666664\n"
          ]
        }
      ]
    }
  ]
}