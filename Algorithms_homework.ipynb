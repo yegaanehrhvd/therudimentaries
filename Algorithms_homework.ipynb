{
  "cells": [
    {
      "cell_type": "markdown",
      "metadata": {
        "id": "view-in-github",
        "colab_type": "text"
      },
      "source": [
        "<a href=\"https://colab.research.google.com/github/yegaanehrhvd/therudimentaries/blob/master/Algorithms_homework.ipynb\" target=\"_parent\"><img src=\"https://colab.research.google.com/assets/colab-badge.svg\" alt=\"Open In Colab\"/></a>"
      ]
    },
    {
      "cell_type": "code",
      "execution_count": null,
      "metadata": {
        "colab": {
          "base_uri": "https://localhost:8080/"
        },
        "id": "CxMYSQYOuZhS",
        "outputId": "cb795db9-e82b-4047-eac5-cfa755c7ac37"
      },
      "outputs": [
        {
          "name": "stdout",
          "output_type": "stream",
          "text": [
            "GCD is 2\n"
          ]
        },
        {
          "data": {
            "text/plain": [
              "2"
            ]
          },
          "execution_count": 1,
          "metadata": {},
          "output_type": "execute_result"
        }
      ],
      "source": [
        "def GCD_finder(n,m):\n",
        "    if n > m:\n",
        "        n , m = m , n\n",
        "    while m % n != 0:\n",
        "        m , n = n , m%n\n",
        "    GCD = n\n",
        "    print(f\"GCD is {GCD}\")\n",
        "    return GCD\n",
        "GCD_finder(34,28)"
      ]
    },
    {
      "cell_type": "code",
      "execution_count": null,
      "metadata": {
        "colab": {
          "base_uri": "https://localhost:8080/"
        },
        "id": "fRwQKlhv0ulj",
        "outputId": "3a4497db-8903-4c1b-c627-39b15857ffd0"
      },
      "outputs": [
        {
          "name": "stdout",
          "output_type": "stream",
          "text": [
            "sqaure of 8 is 64\n"
          ]
        }
      ],
      "source": [
        "def square_through_add(n):\n",
        "  sum = 0\n",
        "  for i in range(1, n*2 + 1, 2):\n",
        "    sum += i\n",
        "  print(f\"sqaure of {n} is {sum}\")\n",
        "\n",
        "square_through_add(8)\n"
      ]
    },
    {
      "cell_type": "code",
      "execution_count": null,
      "metadata": {
        "colab": {
          "base_uri": "https://localhost:8080/"
        },
        "id": "1t2Wv6xT2Wfo",
        "outputId": "b7223e1f-36e5-4b20-89ba-00977ea90c75"
      },
      "outputs": [
        {
          "name": "stdout",
          "output_type": "stream",
          "text": [
            "How many numbers do you need?4\n",
            "Enter a number:12\n",
            "Enter a number:27\n",
            "Enter a number:81\n",
            "Enter a number:34\n",
            "Nine multiples are [27, 81]\n"
          ]
        }
      ],
      "source": [
        "n = int(input(\"How many numbers do you need?\"))\n",
        "nine_multiples = []\n",
        "for i in range(n):\n",
        "  x = int(input(\"Enter a number:\"))\n",
        "  original = x\n",
        "  sum = 0\n",
        "  while x > 0:\n",
        "    r = x - (x//10 * 10)\n",
        "    sum = sum + r\n",
        "    x = x //10\n",
        "  if sum % 9 == 0:\n",
        "    nine_multiples.append(original)\n",
        "print(f\"Nine multiples are {nine_multiples}\")\n"
      ]
    },
    {
      "cell_type": "code",
      "execution_count": null,
      "metadata": {
        "colab": {
          "base_uri": "https://localhost:8080/"
        },
        "id": "OJ0xZru1691c",
        "outputId": "b924b27d-a038-4e6e-b710-0f7973b32332"
      },
      "outputs": [
        {
          "name": "stdout",
          "output_type": "stream",
          "text": [
            "enter a number: 8998\n",
            "8998 is a mirrored number\n"
          ]
        }
      ],
      "source": [
        "def is_mirror(n):\n",
        "  n = str(n)\n",
        "  is_mirror = True\n",
        "  for i in range(len(n)):\n",
        "    if n[i] != n[len(n)-i-1]:\n",
        "      is_mirror = False\n",
        "  if is_mirror:\n",
        "    print(f\"{n} is a mirrored number\")\n",
        "  else:\n",
        "    print(f\"{n} is not a mirrored number\")\n",
        "is_mirror(input(\"enter a number: \"))"
      ]
    },
    {
      "cell_type": "code",
      "execution_count": null,
      "metadata": {
        "colab": {
          "base_uri": "https://localhost:8080/"
        },
        "id": "uX98c3tI9Zjg",
        "outputId": "47c37c36-1643-4969-e68e-7cf08efe729b"
      },
      "outputs": [
        {
          "name": "stdout",
          "output_type": "stream",
          "text": [
            "the biggest factor is 14.0\n",
            "the biggest factor is 27.0\n"
          ]
        }
      ],
      "source": [
        "from math import ceil\n",
        "def biggest_factor_finder(n):\n",
        "  factors = []\n",
        "  max = 0\n",
        "  for i in range(1, ceil(n** 05) + 1):\n",
        "    if n%i == 0:\n",
        "      factors.append(i)\n",
        "      factors.append(n/i)\n",
        "  if n in factors:\n",
        "    factors.remove(n)\n",
        "  for j in factors:\n",
        "    if j > max:\n",
        "      max = j\n",
        "  print(f\"the biggest factor is {max}\")\n",
        "biggest_factor_finder(28)\n",
        "biggest_factor_finder(81)\n"
      ]
    },
    {
      "cell_type": "code",
      "execution_count": null,
      "metadata": {
        "colab": {
          "base_uri": "https://localhost:8080/"
        },
        "id": "COahTEj9HrBn",
        "outputId": "aa5355c9-6b15-4b31-a92b-fd4ed0db14c7"
      },
      "outputs": [
        {
          "output_type": "stream",
          "name": "stdout",
          "text": [
            "Enter the number of workers: 3\n",
            "Enter the number of days: 2\n",
            "Enter their name: Ali\n",
            "Enter their hourly wage: 3000\n",
            "Enter clock-in time for day 1(HHMM): 0745\n",
            "Enter clock-out time for day 1(HHMM): 2200\n",
            "Enter clock-in time for day 1(HHMM): 0800\n",
            "Enter clock-out time for day 1(HHMM): 1800\n",
            "Ali : 72750.0\n",
            "Enter their name: Hasan\n",
            "Enter their hourly wage: 4000\n",
            "Enter clock-in time for day 2(HHMM): 0600\n",
            "Enter clock-out time for day 2(HHMM): 2300\n",
            "Enter clock-in time for day 2(HHMM): 0600\n",
            "Enter clock-out time for day 2(HHMM): 2300\n",
            "Hasan : 136000.0\n",
            "Enter their name: Mojtaba\n",
            "Enter their hourly wage: 8000\n",
            "Enter clock-in time for day 3(HHMM): 0600\n",
            "Enter clock-out time for day 3(HHMM): 2300\n",
            "Enter clock-in time for day 3(HHMM): 0600\n",
            "Enter clock-out time for day 3(HHMM): 2300\n",
            "Mojtaba : 272000.0\n"
          ]
        }
      ],
      "source": [
        "n = int(input(\"Enter the number of workers: \"))\n",
        "x = int(input(\"Enter the number of days: \"))\n",
        "for i in range(n):\n",
        "  name = input(\"Enter their name: \")\n",
        "  p = int(input(\"Enter their hourly wage: \"))\n",
        "  sum = 0\n",
        "  for j in range(x):\n",
        "    h1 = int(input(f\"Enter clock-in time for day {i+1}(HHMM): \"))\n",
        "    h2 = int(input(f\"Enter clock-out time for day {i+1}(HHMM): \"))\n",
        "    start_h = h1//100\n",
        "    start_min = h1 % 100\n",
        "    end_h = h2//100\n",
        "    end_min = h2 % 100\n",
        "    total_start = start_h * 60 + start_min\n",
        "    total_end = end_h * 60 + end_min\n",
        "    total_min = total_end - total_start\n",
        "    total_h = total_min / 60\n",
        "    sum += total_h\n",
        "  if sum < 40:\n",
        "    salary = sum * p\n",
        "  if sum > 40:\n",
        "    salary = 40 * p + (sum - 40) * 1.23 * p\n",
        "  print(f\"{name} : {salary}\")"
      ]
    },
    {
      "cell_type": "code",
      "source": [
        "def fact(n):\n",
        "  if n in (0,1):\n",
        "    return 1\n",
        "  if n > 1:\n",
        "    return fact(n-1) * n\n",
        "def sum_fact_reverse(n):\n",
        "  sum  = 1\n",
        "  for i in range(2, n):\n",
        "    sum = sum + fact(i) ** (-1)\n",
        "  print(f\"it is {sum}\")\n",
        "\n",
        "sum_fact_reverse(10)"
      ],
      "metadata": {
        "colab": {
          "base_uri": "https://localhost:8080/"
        },
        "id": "NxL3CfQjNZH6",
        "outputId": "400c7136-5814-4af5-a082-da157707ac28"
      },
      "execution_count": null,
      "outputs": [
        {
          "output_type": "stream",
          "name": "stdout",
          "text": [
            "it is 1.7182815255731925\n"
          ]
        }
      ]
    },
    {
      "cell_type": "code",
      "source": [
        "n = int(input(\"How many numbers do you need?\"))\n",
        "b = []\n",
        "for i in range(n):\n",
        "  x = int(input(\"Enter a number: \"))\n",
        "  only_seven = True\n",
        "  original = x\n",
        "  while x > 0:\n",
        "    r = x - x//10 * 10\n",
        "    if r != 7:\n",
        "      only_seven = False\n",
        "      break\n",
        "    x //= 10\n",
        "  if only_seven:\n",
        "    b.append(original)\n",
        "print(f\"{len(b)} numbers are made up of only 7\")\n",
        "\n",
        "\n"
      ],
      "metadata": {
        "colab": {
          "base_uri": "https://localhost:8080/"
        },
        "id": "eK_UXXUSP5Cd",
        "outputId": "533aa2d7-61bd-4f66-bc12-ec45efac9f3e"
      },
      "execution_count": null,
      "outputs": [
        {
          "output_type": "stream",
          "name": "stdout",
          "text": [
            "How many numbers do you need?5\n",
            "Enter a number: 12\n",
            "Enter a number: 77\n",
            "Enter a number: 34\n",
            "Enter a number: 777\n",
            "Enter a number: 27\n",
            "2 numbers are made up of only 7\n"
          ]
        }
      ]
    },
    {
      "cell_type": "code",
      "source": [
        "name = input(\"Write the customer\\'s name: \")\n",
        "n = int(input(\"Enter the number of transactions: \"))\n",
        "balance = int(input(\"How much money did you start with?\"))\n",
        "for i in range(n):\n",
        "  amount = int(input(f\"How much was transaction {i+1} ?\"))\n",
        "  kind = int(input(\"Did you receive or spend money(enter 1:receive or 2:spend)?\"))\n",
        "  if kind not in (1,2):\n",
        "    raise ValueError(\"Only 1 or 2 are allowed!\")\n",
        "  if kind == 2:\n",
        "    balance = balance - amount\n",
        "  elif kind == 1:\n",
        "    balance = balance + amount\n",
        "print(f\"current account balance: {balance}\")\n"
      ],
      "metadata": {
        "colab": {
          "base_uri": "https://localhost:8080/"
        },
        "id": "dkiFUzY_Tjkk",
        "outputId": "dc4fdf3a-0bc1-4368-e8e9-fcf76210f71c"
      },
      "execution_count": null,
      "outputs": [
        {
          "output_type": "stream",
          "name": "stdout",
          "text": [
            "Write the customer's name: Gholi\n",
            "Enter the number of transactions: 3\n",
            "How much money did you start with?24000000\n",
            "How much was transaction 1 ?200\n",
            "Did you receive or spend money(enter 1:receive or 2:spend)?1\n",
            "How much was transaction 2 ?120\n",
            "Did you receive or spend money(enter 1:receive or 2:spend)?2\n",
            "How much was transaction 3 ?300\n",
            "Did you receive or spend money(enter 1:receive or 2:spend)?1\n",
            "current account balance: 24000380\n"
          ]
        }
      ]
    }
  ],
  "metadata": {
    "colab": {
      "provenance": [],
      "authorship_tag": "ABX9TyMOx08amwXrs19tm9/Pall1",
      "include_colab_link": true
    },
    "kernelspec": {
      "display_name": "Python 3",
      "name": "python3"
    },
    "language_info": {
      "name": "python"
    }
  },
  "nbformat": 4,
  "nbformat_minor": 0
}