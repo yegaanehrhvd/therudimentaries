{
  "nbformat": 4,
  "nbformat_minor": 0,
  "metadata": {
    "colab": {
      "provenance": [],
      "authorship_tag": "ABX9TyN/oDUFLFs/Yt1mxhWJm0bq",
      "include_colab_link": true
    },
    "kernelspec": {
      "name": "python3",
      "display_name": "Python 3"
    },
    "language_info": {
      "name": "python"
    }
  },
  "cells": [
    {
      "cell_type": "markdown",
      "metadata": {
        "id": "view-in-github",
        "colab_type": "text"
      },
      "source": [
        "<a href=\"https://colab.research.google.com/github/yegaanehrhvd/therudimentaries/blob/main/ClassAndFileHomework.ipynb\" target=\"_parent\"><img src=\"https://colab.research.google.com/assets/colab-badge.svg\" alt=\"Open In Colab\"/></a>"
      ]
    },
    {
      "cell_type": "code",
      "execution_count": 5,
      "metadata": {
        "colab": {
          "base_uri": "https://localhost:8080/"
        },
        "id": "Z72RS1bXxmtH",
        "outputId": "a3a97bca-08fd-478d-f33c-14e901010ede"
      },
      "outputs": [
        {
          "output_type": "stream",
          "name": "stdout",
          "text": [
            "Transation history of Mina:\n",
            "Withdrawn: 4000\n",
            "Deposited: 100\n",
            "Account balance: 36100\n"
          ]
        }
      ],
      "source": [
        "#Question1\n",
        "class Account():\n",
        "  def __init__(self, name, account_number, initial_balance=0):\n",
        "    self.name = name\n",
        "    self.acount_number = account_number\n",
        "    self.balance = initial_balance\n",
        "    self.transactions = []\n",
        "  def withdraw(self, amount):\n",
        "    if amount > self.balance:\n",
        "      print(\"Not enough money in your account!\")\n",
        "    else:\n",
        "      self.balance = self.balance - amount\n",
        "      self.transactions.append(f\"Withdrawn: {amount}\")\n",
        "  def deposit(self, amount):\n",
        "    self.balance = self.balance + amount\n",
        "    self.transactions.append(f\"Deposited: {amount}\")\n",
        "  def dump(self):\n",
        "    print(f\"Transation history of {self.name}:\")\n",
        "    for i in self.transactions:\n",
        "      print(i)\n",
        "    print(f\"Account balance: {self.balance}\")\n",
        "bank_account = Account('Mina', 9912170, 40000)\n",
        "bank_account.withdraw(4000)\n",
        "bank_account.deposit(100)\n",
        "bank_account.dump()"
      ]
    },
    {
      "cell_type": "code",
      "source": [
        "#Question2\n",
        "class AccountP():\n",
        "  def __init__(self, name, account_number, initial_balance=0):\n",
        "    self.__name = name\n",
        "    self.__account_number = account_number\n",
        "    self.__balance = initial_balance\n",
        "    self.transactions = []\n",
        "  def withdraw(self, amount):\n",
        "    if amount > self.__balance:\n",
        "      print(\"Not enough money in your account!\")\n",
        "    else:\n",
        "      self.__balance = self.__balance - amount\n",
        "      self.transactions.append(f\"Withdrawn: {amount}\")\n",
        "  def deposit(self, amount):\n",
        "    self.__balance = self.__balance + amount\n",
        "    self.transactions.append(f\"Deposited: {amount}\")\n",
        "  def dump(self):\n",
        "    print(f\"Transaction history for {self.__name}:\")\n",
        "    for i in self.transactions:\n",
        "      print(i)\n",
        "    print(f\"Balance now: {self.__balance}\")\n",
        "account = AccountP(\"Dina\", 123456, 2300)\n",
        "account.withdraw(1000)\n",
        "account.deposit(4000)\n",
        "account.dump()"
      ],
      "metadata": {
        "colab": {
          "base_uri": "https://localhost:8080/"
        },
        "id": "8xSnwGf8yObA",
        "outputId": "dccf9246-1e24-400e-bc18-875a9de988d1"
      },
      "execution_count": 4,
      "outputs": [
        {
          "output_type": "stream",
          "name": "stdout",
          "text": [
            "Transaction history for Dina:\n",
            "Withdrawn: 1000\n",
            "Deposited: 4000\n",
            "Balance now: 5300\n"
          ]
        }
      ]
    },
    {
      "cell_type": "code",
      "source": [
        "#Question3\n",
        "class Phone():\n",
        "  def __init__(self, home, cellphone, work=None):\n",
        "    self.home = home\n",
        "    self.cellphone = cellphone\n",
        "    self.work = work\n",
        "class Address():\n",
        "  def __init__(self, home, work=None):\n",
        "    self.home = home\n",
        "    self.work = work\n",
        "class Person():\n",
        "  def __init__(self, name, phone, address, email_address):\n",
        "    self.name = name\n",
        "    self.phone = phone\n",
        "    self.address = address\n",
        "    self.email_address = email_address\n",
        "A = Person('Dorsa', Phone(\"014239857\",\"09137627588\", \"43569283\"), Address(\"Golbahar\", \"Ahmadabad\"), \"Dorsa@voodoo.com\")\n",
        "print(A.name, A.phone.cellphone)\n",
        "print(A.phone.home)"
      ],
      "metadata": {
        "colab": {
          "base_uri": "https://localhost:8080/"
        },
        "id": "-cPVUmEF7fP2",
        "outputId": "b76c1091-7e72-41ee-d048-0cc806faa826"
      },
      "execution_count": 9,
      "outputs": [
        {
          "output_type": "stream",
          "name": "stdout",
          "text": [
            "Dorsa 09137627588\n",
            "014239857\n"
          ]
        }
      ]
    },
    {
      "cell_type": "code",
      "source": [
        "#Question4\n",
        "class Phone():\n",
        "  def __init__(self, home, cellphone, work=None):\n",
        "    self.home = home\n",
        "    self.cellphone = cellphone\n",
        "    self.work = work\n",
        "class Address():\n",
        "  def __init__(self, home, work=None):\n",
        "    self.home = home\n",
        "    self.work = work\n",
        "class Person():\n",
        "  def __init__(self, name, phone, address, email_address):\n",
        "    self.name = name\n",
        "    self.phone = phone\n",
        "    self.address = address\n",
        "    self.email_address = email_address\n",
        "  def present(self):\n",
        "    print(f\"{self.name}\\'s phone numbers:\")\n",
        "    if self.phone.work:\n",
        "      print(f\"Workplace phone number: {self.phone.work}\")\n",
        "    else:\n",
        "      pass\n",
        "    print(f\"Home phone number: {self.phone.home}\")\n",
        "    print(f\"Cellphone number: {self.phone.cellphone}\")\n",
        "    print(f\"{self.name}\\'s Address(es):\")\n",
        "    print(f\"Home address: {self.address.home}\")\n",
        "    if self.address.work:\n",
        "      print(f\"Workplace address: {self.address.work}\")\n",
        "    print(f\"{self.name}\\'s email_address: {self.email_address}\")\n",
        "b = Person('Kiana', Phone('21342342', '09123652636', '234732362'), Address(\"Bahman 22nd\", \"Tir 10th\"), 'Kiana12320@bmail.com')\n",
        "b.present()"
      ],
      "metadata": {
        "colab": {
          "base_uri": "https://localhost:8080/"
        },
        "id": "LBxJXezOKUBw",
        "outputId": "057b7954-2060-46be-f91c-08fab89a93a9"
      },
      "execution_count": 17,
      "outputs": [
        {
          "output_type": "stream",
          "name": "stdout",
          "text": [
            "Kiana's phone numbers:\n",
            "Workplace phone number: 234732362\n",
            "Home phone number: 21342342\n",
            "Cellphone number: 09123652636\n",
            "Kiana's Address(es):\n",
            "Home address: Bahman 22nd\n",
            "Workplace address: Tir 10th\n",
            "Kiana's email_address: Kiana12320@bmail.com\n"
          ]
        }
      ]
    },
    {
      "cell_type": "code",
      "source": [
        "#Question5\n",
        "import math\n",
        "class Circle():\n",
        "  def __init__(self,r):\n",
        "    self.r = r\n",
        "  def area(self):\n",
        "    return math.pi * self.r **2\n",
        "  def perimeter(self):\n",
        "    return math.pi * 2 * self.r\n",
        "\n",
        "C = Circle(4)\n",
        "print(C.area())\n",
        "print(C.perimeter())"
      ],
      "metadata": {
        "colab": {
          "base_uri": "https://localhost:8080/"
        },
        "id": "GyfCnlMpO7G9",
        "outputId": "f82f7b76-7bba-42cf-b251-d877d67a581b"
      },
      "execution_count": 23,
      "outputs": [
        {
          "output_type": "stream",
          "name": "stdout",
          "text": [
            "50.26548245743669\n",
            "25.132741228718345\n"
          ]
        }
      ]
    },
    {
      "cell_type": "code",
      "source": [
        "#Question6\n",
        "class Phrase_collector():\n",
        "  def __init__(self, phrase):\n",
        "    self.phrase = phrase\n",
        "  def mirror(self):\n",
        "    words = self.phrase.strip().split()\n",
        "    return ' '.join(words[::-1])\n",
        "\n",
        "x = Phrase_collector(phrase = input(\"enter a phrase: \"))\n",
        "x.mirror()"
      ],
      "metadata": {
        "colab": {
          "base_uri": "https://localhost:8080/",
          "height": 53
        },
        "id": "Xv4vM1BqREWC",
        "outputId": "bc7674ad-0439-47e8-a144-81f0fa428d77"
      },
      "execution_count": 32,
      "outputs": [
        {
          "name": "stdout",
          "output_type": "stream",
          "text": [
            "enter a phrase: hello, how are you?\n"
          ]
        },
        {
          "output_type": "execute_result",
          "data": {
            "text/plain": [
              "'you? are how hello,'"
            ],
            "application/vnd.google.colaboratory.intrinsic+json": {
              "type": "string"
            }
          },
          "metadata": {},
          "execution_count": 32
        }
      ]
    },
    {
      "cell_type": "code",
      "source": [
        "#Question7\n",
        "class RomanToNumericConverter():\n",
        "  def __init__(self, roman):\n",
        "    self.roman = roman.upper()\n",
        "    self.roman_dict = { 'I':1, 'V':5, 'X':10, 'L': 50, 'C': 100, 'D':500, 'M':1000}\n",
        "    for i in self.roman:\n",
        "      if i not in self.roman_dict:\n",
        "        raise Exception(\"Invalid Roman Number!\")\n",
        "  def cnvrt(self):\n",
        "    total = 0\n",
        "    previous = 0\n",
        "    self.roman = self.roman[::-1]\n",
        "    for j in self.roman:\n",
        "      value = self.roman_dict[j]\n",
        "      if value < previous:\n",
        "        total -= value\n",
        "      else:\n",
        "        total += value\n",
        "        previous = value\n",
        "    return total\n",
        "a = RomanToNumericConverter(\"XVI\")\n",
        "print(a.cnvrt())\n"
      ],
      "metadata": {
        "colab": {
          "base_uri": "https://localhost:8080/"
        },
        "id": "jzXTtHvpWYKO",
        "outputId": "e22cbc39-0bb3-4444-c2a5-eac58365b764"
      },
      "execution_count": 35,
      "outputs": [
        {
          "output_type": "stream",
          "name": "stdout",
          "text": [
            "16\n"
          ]
        }
      ]
    },
    {
      "cell_type": "code",
      "source": [
        "#Question8\n",
        "class uppercaser():\n",
        "  def __init__(self, file):\n",
        "    self.file = file\n",
        "  def printer(self):\n",
        "    f = open(self.file)\n",
        "    for line in f:\n",
        "      print(line.upper())\n",
        "\n",
        "\n",
        "a = uppercaser(r\"C:\\Users\\h.rahnavard\\Downloads\\file.txt\")\n",
        "a.printer()"
      ],
      "metadata": {
        "id": "AFObuRx8gWpj"
      },
      "execution_count": null,
      "outputs": []
    }
  ]
}