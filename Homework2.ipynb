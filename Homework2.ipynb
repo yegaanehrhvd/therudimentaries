{
  "nbformat": 4,
  "nbformat_minor": 0,
  "metadata": {
    "colab": {
      "provenance": [],
      "authorship_tag": "ABX9TyPGNRsOt8qG8Oepb+cyBE6A",
      "include_colab_link": true
    },
    "kernelspec": {
      "name": "python3",
      "display_name": "Python 3"
    },
    "language_info": {
      "name": "python"
    }
  },
  "cells": [
    {
      "cell_type": "markdown",
      "metadata": {
        "id": "view-in-github",
        "colab_type": "text"
      },
      "source": [
        "<a href=\"https://colab.research.google.com/github/yegaanehrhvd/therudimentaries/blob/master/Homework2.ipynb\" target=\"_parent\"><img src=\"https://colab.research.google.com/assets/colab-badge.svg\" alt=\"Open In Colab\"/></a>"
      ]
    },
    {
      "cell_type": "code",
      "execution_count": null,
      "metadata": {
        "id": "UpEEO9iexyYX",
        "colab": {
          "base_uri": "https://localhost:8080/"
        },
        "outputId": "e1f76cdc-8970-4807-f433-2d5a1f3cdaf9"
      },
      "outputs": [
        {
          "output_type": "stream",
          "name": "stdout",
          "text": [
            "How many numbers do you need?4\n",
            "Type a number:1\n",
            "Type a number:2\n",
            "Type a number:4\n",
            "Type a number:5\n",
            "[1, 2, 4, 5]\n",
            "odd numbers are [1, 5]\n",
            "even numbers are [2, 4]\n"
          ]
        }
      ],
      "source": [
        "#Question1\n",
        "intlist = []\n",
        "size = int(input(\"How many numbers do you need?\"))\n",
        "for i in range(size):\n",
        "  x = input(\"Type a number:\")\n",
        "  x = float(x)\n",
        "  if not x.is_integer():\n",
        "    raise ValueError(\"Decimals are not accepted!\")\n",
        "  else:\n",
        "    intlist.append(int(x))\n",
        "print(intlist)\n",
        "evens = []\n",
        "odds = []\n",
        "for n in intlist:\n",
        "  if n%2 == 0:\n",
        "    evens.append(n)\n",
        "  elif n%2 != 0:\n",
        "    odds.append(n)\n",
        "print(f\"odd numbers are {odds}\")\n",
        "print(f\"even numbers are {evens}\")"
      ]
    },
    {
      "cell_type": "code",
      "source": [
        "#Question2\n",
        "nums = []\n",
        "size = int(input(\"How many numbers do you need?\"))\n",
        "for i in range(size):\n",
        "  x = int(input(\"Type a number:\"))\n",
        "  nums.append(x)\n",
        "print(f\"the original list: {nums}\")\n",
        "positives = []\n",
        "for n in nums:\n",
        "  if n >= 0:\n",
        "     positives.append(n)\n",
        "print(f\"non-negative numbers are: {positives}\")"
      ],
      "metadata": {
        "colab": {
          "base_uri": "https://localhost:8080/"
        },
        "id": "IckQEDce11ms",
        "outputId": "e62b2776-6e94-49b6-88e9-4bde4d5c24f7"
      },
      "execution_count": null,
      "outputs": [
        {
          "output_type": "stream",
          "name": "stdout",
          "text": [
            "How many numbers do you need?4\n",
            "Type a number:1\n",
            "Type a number:-2\n",
            "Type a number:3\n",
            "Type a number:-6\n",
            "the original list: [1, -2, 3, -6]\n",
            "non-negative numbers are: [1, 3]\n"
          ]
        }
      ]
    },
    {
      "cell_type": "code",
      "source": [
        "#Question3\n",
        "def difference(a,b):\n",
        "  dif = []\n",
        "  if not isinstance(a, list):\n",
        "    raise TypeError(\"We only accept lists\")\n",
        "  elif not isinstance(b, list):\n",
        "    raise TypeError(\"Only lists are accepted\")\n",
        "  else:\n",
        "    for i in a:\n",
        "      if i not in b:\n",
        "        dif.append(i)\n",
        "    for j in b:\n",
        "      if j not in a:\n",
        "        dif.append(j)\n",
        "    return dif\n",
        "\n",
        "A = [1 , 5 , 8 , 4 , 9 , 16]\n",
        "B = [11 , 12 , 16 , 14 , 1 , 7 , 5]\n",
        "difference(A,B)"
      ],
      "metadata": {
        "colab": {
          "base_uri": "https://localhost:8080/"
        },
        "id": "eGl4qXZc3UPq",
        "outputId": "ddc254d3-7a79-4f75-a993-91182c2cea4c"
      },
      "execution_count": null,
      "outputs": [
        {
          "output_type": "execute_result",
          "data": {
            "text/plain": [
              "[8, 4, 9, 11, 12, 14, 7]"
            ]
          },
          "metadata": {},
          "execution_count": 8
        }
      ]
    },
    {
      "cell_type": "code",
      "source": [
        "#Question4\n",
        "def zeromover(a):\n",
        "  if not isinstance(a,list):\n",
        "    raise TypeError(\"Only lists are accepted\")\n",
        "  posit = 0\n",
        "  for i in range(len(a)):\n",
        "    if a[i] != 0:\n",
        "      a[posit] = a[i]\n",
        "      posit += 1\n",
        "  for i in range(posit, len(a)):\n",
        "    a[i] = 0\n",
        "  print(a)\n",
        "b = [3,4,0,0,0,6,2,0,6,7,6,0,0,0,9,10,7,4,4,5,3,0,0,2,9,7]\n",
        "zeromover(b)"
      ],
      "metadata": {
        "colab": {
          "base_uri": "https://localhost:8080/"
        },
        "id": "tWGeG9CA5jrF",
        "outputId": "b853f1cd-f3d2-4270-a15a-14df308c8c6a"
      },
      "execution_count": null,
      "outputs": [
        {
          "output_type": "stream",
          "name": "stdout",
          "text": [
            "[3, 4, 6, 2, 6, 7, 6, 9, 10, 7, 4, 4, 5, 3, 2, 9, 7, 0, 0, 0, 0, 0, 0, 0, 0, 0]\n"
          ]
        }
      ]
    },
    {
      "cell_type": "code",
      "source": [
        "#Question5\n",
        "def unlist(x):\n",
        "  new_x = []\n",
        "  if not isinstance(x, list):\n",
        "    raise TypeError(\"only enter lists\")\n",
        "  for i in x:\n",
        "    if isinstance(i, list):\n",
        "      new_x.extend(i)\n",
        "    if not isinstance(i, list):\n",
        "      new_x.append(i)\n",
        "  print(new_x)\n",
        "\n",
        "Input = [1 , 3 , 7 , [2 , 7] , 4 , 5 , [6 , 8 , 9]]\n",
        "unlist(Input)\n"
      ],
      "metadata": {
        "colab": {
          "base_uri": "https://localhost:8080/"
        },
        "id": "BI4PfLAj_j8O",
        "outputId": "e504c298-2211-4ab2-ac16-30a23a9f6e00"
      },
      "execution_count": null,
      "outputs": [
        {
          "output_type": "stream",
          "name": "stdout",
          "text": [
            "[1, 3, 7, 2, 7, 4, 5, 6, 8, 9]\n"
          ]
        }
      ]
    },
    {
      "cell_type": "code",
      "source": [
        "#Question6\n",
        "t = ()\n",
        "size = int(input(\"how many numbers do you want?\"))\n",
        "for i in range(size):\n",
        "  n = int(input(\"Enter a number:\"))\n",
        "  t = t + (n,)\n",
        "print(t)\n",
        "newt = []\n",
        "for i in range(len(t)):\n",
        "  newt.append(str(t[i]))\n",
        "number_str = ''.join(newt)\n",
        "number_final =int(number_str)\n",
        "print(number_final)"
      ],
      "metadata": {
        "colab": {
          "base_uri": "https://localhost:8080/"
        },
        "id": "KTu9UCw0BwRN",
        "outputId": "45798a85-40fd-466b-e4d2-82dc9d49b0ce"
      },
      "execution_count": null,
      "outputs": [
        {
          "output_type": "stream",
          "name": "stdout",
          "text": [
            "how many numbers do you want?4\n",
            "Enter a number:1\n",
            "Enter a number:2\n",
            "Enter a number:5\n",
            "Enter a number:6\n",
            "(1, 2, 5, 6)\n",
            "1256\n"
          ]
        }
      ]
    },
    {
      "cell_type": "code",
      "source": [
        "#Question7\n",
        "t1 = (1, 2, 3)\n",
        "t2 = (5, 5, 6)\n",
        "t3 = (7, 8, 9)\n",
        "res =[]\n",
        "for i in range(len(t1)):\n",
        "  res.append(t1[i] + t2[i] + t3[i])\n",
        "res = tuple(res)\n",
        "print(res)"
      ],
      "metadata": {
        "colab": {
          "base_uri": "https://localhost:8080/"
        },
        "id": "wax-CVIhG9sa",
        "outputId": "21f1729e-8bea-445c-efa1-9451c3f28540"
      },
      "execution_count": null,
      "outputs": [
        {
          "output_type": "stream",
          "name": "stdout",
          "text": [
            "(13, 15, 18)\n"
          ]
        }
      ]
    },
    {
      "cell_type": "code",
      "source": [
        "#Question8\n",
        "d1 = {'a':100, 'b':200, 'c':300}\n",
        "d2 = {'a':300, 'b':200, 'd':400}\n",
        "d3 = {}\n",
        "for i in d1:\n",
        "  if i in d2:\n",
        "    d3[i] = d1[i] + d2[i]\n",
        "  elif i not in d2:\n",
        "      d3[i] = d1[i]\n",
        "for i in d2:\n",
        "  if i in d1:\n",
        "    continue\n",
        "  else:\n",
        "      d3[i] = d2[i]\n",
        "\n",
        "print(d3)"
      ],
      "metadata": {
        "colab": {
          "base_uri": "https://localhost:8080/"
        },
        "id": "-OZkIk4IkwVY",
        "outputId": "69ccbca0-5734-402e-80a5-8ca65bfad08b"
      },
      "execution_count": null,
      "outputs": [
        {
          "output_type": "stream",
          "name": "stdout",
          "text": [
            "{'a': 400, 'b': 400, 'c': 300, 'd': 400}\n"
          ]
        }
      ]
    },
    {
      "cell_type": "code",
      "source": [
        "#Question9\n",
        "dic1 = {1:10, 2:200}\n",
        "dic2 = {3:30, 4:40}\n",
        "dic3 = {5:50, 6:60}\n",
        "dic_total = {}\n",
        "for i in dic1:\n",
        "  dic_total[i] = dic1[i]\n",
        "for i in dic2:\n",
        "  dic_total[i] = dic2[i]\n",
        "for i in dic3:\n",
        "  dic_total[i] = dic3[i]\n",
        "print(dic_total)\n"
      ],
      "metadata": {
        "colab": {
          "base_uri": "https://localhost:8080/"
        },
        "id": "tDG3Y42dnKzF",
        "outputId": "50c3916e-6fd8-467d-f3da-e76e2bea65a9"
      },
      "execution_count": null,
      "outputs": [
        {
          "output_type": "stream",
          "name": "stdout",
          "text": [
            "{1: 10, 2: 200, 3: 30, 4: 40, 5: 50, 6: 60}\n"
          ]
        }
      ]
    },
    {
      "cell_type": "code",
      "source": [
        "#Question9AlternativeAnswer\n",
        "dic1 = {1:10, 2:200}\n",
        "dic2 = {3:30, 4:40}\n",
        "dic3 = {5:50, 6:60}\n",
        "dic_total = {}\n",
        "dicts = [dic1, dic2, dic3]\n",
        "for i in dicts:\n",
        "  dic_total.update(i)\n",
        "print(dic_total)"
      ],
      "metadata": {
        "colab": {
          "base_uri": "https://localhost:8080/"
        },
        "id": "YwXJ5gHcoLtw",
        "outputId": "77392a05-7bf3-4557-e1a1-cf692691298d"
      },
      "execution_count": null,
      "outputs": [
        {
          "output_type": "stream",
          "name": "stdout",
          "text": [
            "{1: 10, 2: 200, 3: 30, 4: 40, 5: 50, 6: 60}\n"
          ]
        }
      ]
    },
    {
      "cell_type": "code",
      "source": [
        "#Question10,PartA\n",
        "A = {1, 3, 5, 7, 4, 6, 2}\n",
        "B = {2, 4, 1, 3, 5, 6}\n",
        "A.add(14)\n",
        "print(A)"
      ],
      "metadata": {
        "colab": {
          "base_uri": "https://localhost:8080/"
        },
        "id": "3T5TyuChowWT",
        "outputId": "9f647c51-091d-4150-9e6a-d441ed04ce54"
      },
      "execution_count": null,
      "outputs": [
        {
          "output_type": "stream",
          "name": "stdout",
          "text": [
            "{1, 2, 3, 4, 5, 6, 7, 14}\n"
          ]
        }
      ]
    },
    {
      "cell_type": "code",
      "source": [
        "#Question10PartB\n",
        "def union(a,b):\n",
        "  if not isinstance(a, set):\n",
        "    raise ValueError(\"Enter only sets\")\n",
        "  if not isinstance(b, set):\n",
        "    raise ValueError(\"Only sets are allowed\")\n",
        "  c = set()\n",
        "  for i in a:\n",
        "    c.add(i)\n",
        "  for i in b:\n",
        "    c.add(i)\n",
        "  print(f\"the union of {a} and {b} is: {c}\")\n",
        "\n",
        "def intersection(a,b):\n",
        "  if not isinstance(a, set):\n",
        "    raise ValueError(\"Enter only sets\")\n",
        "  if not isinstance(b, set):\n",
        "    raise ValueError(\"Only sets are allowed\")\n",
        "  d = set()\n",
        "  for i in a:\n",
        "    if i in b:\n",
        "      d.add(i)\n",
        "  print(f\"the interesection of {a} and {b} is: {d}\")\n",
        "A = {1, 3, 5, 7, 4, 6, 2}\n",
        "B = {2, 4, 1, 3, 5, 6}\n",
        "\n",
        "union(A,B)\n",
        "intersection(A,B)"
      ],
      "metadata": {
        "colab": {
          "base_uri": "https://localhost:8080/"
        },
        "id": "MN0SM2pepIUl",
        "outputId": "68fcbd99-74b4-4fc5-9289-8846a71fb6ab"
      },
      "execution_count": null,
      "outputs": [
        {
          "output_type": "stream",
          "name": "stdout",
          "text": [
            "the union of {1, 2, 3, 4, 5, 6, 7} and {1, 2, 3, 4, 5, 6} is: {1, 2, 3, 4, 5, 6, 7}\n",
            "the interesection of {1, 2, 3, 4, 5, 6, 7} and {1, 2, 3, 4, 5, 6} is: {1, 2, 3, 4, 5, 6}\n"
          ]
        }
      ]
    },
    {
      "cell_type": "code",
      "source": [
        "#Question10PartC\n",
        "def subset(a,b):\n",
        "  if not isinstance(a, set):\n",
        "    raise ValueError(\"Enter only sets\")\n",
        "  if not isinstance(b, set):\n",
        "    raise ValueError(\"Only sets are allowed\")\n",
        "  if a <= B:\n",
        "    print(\"A is a subset of B\")\n",
        "  else:\n",
        "    print(\"A is not a subest of B\")\n",
        "A = {1, 3, 5, 7, 4, 6, 2}\n",
        "B = {2, 4, 1, 3, 5, 6}\n",
        "subset(A,B)"
      ],
      "metadata": {
        "colab": {
          "base_uri": "https://localhost:8080/"
        },
        "id": "gv5zBalDrHB7",
        "outputId": "119e0a47-5695-4d49-9bbf-c4fec845d9bc"
      },
      "execution_count": null,
      "outputs": [
        {
          "output_type": "stream",
          "name": "stdout",
          "text": [
            "A is not a subest of B\n"
          ]
        }
      ]
    },
    {
      "cell_type": "code",
      "source": [
        "#Question10PartD\n",
        "A = {1, 3, 5, 7, 4, 6, 2}\n",
        "B = {2, 4, 1, 3, 5, 6}\n",
        "print(f\"the number of characters in A is {len(A)}\")\n",
        "max = -float(\"inf\")\n",
        "for i in A:\n",
        "  if i > max:\n",
        "    max = i\n",
        "print(f\"the biggest number in A is {max}\")\n",
        "min = float(\"inf\")\n",
        "for j in A:\n",
        "  if j < min:\n",
        "    min = j\n",
        "print(f\"the smallest number in A is {min} \")\n",
        "\n"
      ],
      "metadata": {
        "colab": {
          "base_uri": "https://localhost:8080/"
        },
        "id": "uuIbolS1sbWO",
        "outputId": "4326fe2f-61c5-467d-c984-4f167fac4d04"
      },
      "execution_count": null,
      "outputs": [
        {
          "output_type": "stream",
          "name": "stdout",
          "text": [
            "the number of characters in A is 7\n",
            "the biggest number in A is 7\n",
            "the smallest number in A is 7 \n"
          ]
        }
      ]
    }
  ]
}
